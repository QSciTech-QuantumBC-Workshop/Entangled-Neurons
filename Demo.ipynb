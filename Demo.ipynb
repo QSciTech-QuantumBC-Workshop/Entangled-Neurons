{
 "cells": [
  {
   "cell_type": "code",
   "execution_count": null,
   "metadata": {},
   "outputs": [],
   "source": [
    "from peptides.classicalNeuralNetwork import Classical_NeuralNetwork\n",
    "from peptides.quantumNeuralNetwork import Quantum_NeuralNetwork\n",
    "from peptides.dataLoader import dataLoader"
   ]
  },
  {
   "cell_type": "markdown",
   "metadata": {},
   "source": [
    "# Load and format data"
   ]
  },
  {
   "cell_type": "code",
   "execution_count": null,
   "metadata": {},
   "outputs": [],
   "source": [
    "dl = dataLoader()\n",
    "X_pca, y = dl.load_data(allele = 'HLA-A*03:01',\n",
    "                        PCA_dim = 4,\n",
    "                        size_dataset = 100)"
   ]
  },
  {
   "cell_type": "code",
   "execution_count": null,
   "metadata": {},
   "outputs": [],
   "source": [
    "dl.plot_pca_variance()"
   ]
  },
  {
   "cell_type": "code",
   "execution_count": null,
   "metadata": {},
   "outputs": [],
   "source": [
    "dl.plot_pca_2D()"
   ]
  },
  {
   "cell_type": "markdown",
   "metadata": {},
   "source": [
    "# Train Classical "
   ]
  },
  {
   "cell_type": "code",
   "execution_count": null,
   "metadata": {},
   "outputs": [],
   "source": [
    "CNN = Classical_NeuralNetwork(X_pca, y)\n",
    "loss_classical = CNN.train(n_splits = 2,\n",
    "                        n_iterations = 80,\n",
    "                        hidden_layer_sizes = 50)"
   ]
  },
  {
   "cell_type": "markdown",
   "metadata": {},
   "source": [
    "# Train on qasm_simulator"
   ]
  },
  {
   "cell_type": "code",
   "execution_count": null,
   "metadata": {},
   "outputs": [],
   "source": [
    "from qiskit_aer import AerSimulator\n",
    "\n",
    "simulator = AerSimulator()\n",
    "\n",
    "QNN = Quantum_NeuralNetwork(X_pca,y, simulator)\n",
    "loss_quantum_qasm = QNN.train(n_splits = 2,\n",
    "            n_iterations = 1,\n",
    "            num_features = 4,\n",
    "            reps = 5)"
   ]
  },
  {
   "cell_type": "markdown",
   "metadata": {},
   "source": [
    "# Train on simulation of ibm_quebec"
   ]
  },
  {
   "cell_type": "code",
   "execution_count": null,
   "metadata": {},
   "outputs": [],
   "source": [
    "from qiskit_ibm_provider import IBMProvider\n",
    "from qiskit_aer import AerSimulator\n",
    "\n",
    "provider = IBMProvider(instance=\"pinq-quebec-hub/ecole-dhiver/qml-workshop\")\n",
    "quebec = provider.get_backend('ibm_quebec')\n",
    "quebec_simulator = AerSimulator.from_backend(quebec)\n",
    "\n",
    "QNN = Quantum_NeuralNetwork(X_pca,y, backend = quebec_simulator)\n",
    "loss_quantum_quebec = QNN.train(n_splits = 2,\n",
    "                                n_iterations = 50,\n",
    "                                num_features = 4,\n",
    "                                reps = 5)"
   ]
  },
  {
   "cell_type": "markdown",
   "metadata": {},
   "source": [
    "# Train on ibm_Quebec"
   ]
  },
  {
   "cell_type": "code",
   "execution_count": null,
   "metadata": {},
   "outputs": [],
   "source": [
    "from qiskit_ibm_provider import IBMProvider\n",
    "\n",
    "provider = IBMProvider(instance=\"pinq-quebec-hub/ecole-dhiver/qml-workshop\")\n",
    "simulator = provider.get_backend('ibm_quebec')\n",
    "\n",
    "#QNN = Quantum_NeuralNetwork(X_pca,y, simulator)\n",
    "#QNN.train(n_splits = 2,\n",
    "#            n_iterations = 50,\n",
    "#            num_features = 3,\n",
    "#            reps = 5)"
   ]
  },
  {
   "cell_type": "markdown",
   "metadata": {},
   "source": [
    "# Plot losses"
   ]
  },
  {
   "cell_type": "code",
   "execution_count": null,
   "metadata": {},
   "outputs": [],
   "source": [
    "import matplotlib.pyplot as plt\n",
    "\n",
    "with plt.style.context(\"seaborn-v0_8\"):\n",
    "    plt.figure(figsize=(8,4), dpi=100)\n",
    "    plt.plot(loss_classical, label='Classical')\n",
    "    plt.plot(loss_quantum_qasm, label='Quantum QASM')\n",
    "    plt.plot(loss_quantum_quebec, label='Quantum IBM Quebec')\n",
    "    plt.legend()\n",
    "    plt.xlabel(\"Itteration\")\n",
    "    plt.ylabel(\"Cross Entropy\")\n",
    "    plt.show()"
   ]
  }
 ],
 "metadata": {
  "kernelspec": {
   "display_name": "ML",
   "language": "python",
   "name": "python3"
  },
  "language_info": {
   "codemirror_mode": {
    "name": "ipython",
    "version": 3
   },
   "file_extension": ".py",
   "mimetype": "text/x-python",
   "name": "python",
   "nbconvert_exporter": "python",
   "pygments_lexer": "ipython3",
   "version": "3.11.5"
  }
 },
 "nbformat": 4,
 "nbformat_minor": 2
}
